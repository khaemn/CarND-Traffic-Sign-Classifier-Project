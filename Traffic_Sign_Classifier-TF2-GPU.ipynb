{
 "cells": [
  {
   "cell_type": "markdown",
   "metadata": {},
   "source": [
    "# Self-Driving Car Engineer Nanodegree\n",
    "\n",
    "## Deep Learning\n",
    "\n",
    "## Project: Build a Traffic Sign Recognition Classifier\n",
    "\n",
    "In this notebook, a template is provided for you to implement your functionality in stages, which is required to successfully complete this project. If additional code is required that cannot be included in the notebook, be sure that the Python code is successfully imported and included in your submission if necessary. \n",
    "\n",
    "> **Note**: Once you have completed all of the code implementations, you need to finalize your work by exporting the iPython Notebook as an HTML document. Before exporting the notebook to html, all of the code cells need to have been run so that reviewers can see the final implementation and output. You can then export the notebook by using the menu above and navigating to  \\n\",\n",
    "    \"**File -> Download as -> HTML (.html)**. Include the finished document along with this notebook as your submission. \n",
    "\n",
    "In addition to implementing code, there is a writeup to complete. The writeup should be completed in a separate file, which can be either a markdown file or a pdf document. There is a [write up template](https://github.com/udacity/CarND-Traffic-Sign-Classifier-Project/blob/master/writeup_template.md) that can be used to guide the writing process. Completing the code template and writeup template will cover all of the [rubric points](https://review.udacity.com/#!/rubrics/481/view) for this project.\n",
    "\n",
    "The [rubric](https://review.udacity.com/#!/rubrics/481/view) contains \"Stand Out Suggestions\" for enhancing the project beyond the minimum requirements. The stand out suggestions are optional. If you decide to pursue the \"stand out suggestions\", you can include the code in this Ipython notebook and also discuss the results in the writeup file.\n",
    "\n",
    "\n",
    ">**Note:** Code and Markdown cells can be executed using the **Shift + Enter** keyboard shortcut. In addition, Markdown cells can be edited by typically double-clicking the cell to enter edit mode."
   ]
  },
  {
   "cell_type": "markdown",
   "metadata": {},
   "source": [
    "---\n",
    "## Step 0: Load The Data"
   ]
  },
  {
   "cell_type": "code",
   "execution_count": 1,
   "metadata": {},
   "outputs": [],
   "source": [
    "# Load pickled data\n",
    "import pickle\n",
    "import os\n",
    "\n",
    "DATASET_PATH = '../datasets/traffic-signs-data'\n",
    "\n",
    "training_file = os.path.join(DATASET_PATH, 'train.p')\n",
    "validation_file = os.path.join(DATASET_PATH, 'valid.p')\n",
    "testing_file = os.path.join(DATASET_PATH, 'test.p')\n",
    "\n",
    "with open(training_file, mode='rb') as f:\n",
    "    train = pickle.load(f)\n",
    "with open(validation_file, mode='rb') as f:\n",
    "    valid = pickle.load(f)\n",
    "with open(testing_file, mode='rb') as f:\n",
    "    test = pickle.load(f)\n",
    "    \n",
    "X_train, y_train = train['features'], train['labels']\n",
    "X_valid, y_valid = valid['features'], valid['labels']\n",
    "X_test, y_test = test['features'], test['labels']"
   ]
  },
  {
   "cell_type": "code",
   "execution_count": 2,
   "metadata": {},
   "outputs": [],
   "source": [
    "from gtsrb_labels import gtsrb_label_map"
   ]
  },
  {
   "cell_type": "markdown",
   "metadata": {},
   "source": [
    "---\n",
    "\n",
    "## Step 1: Dataset Summary & Exploration\n",
    "\n",
    "The pickled data is a dictionary with 4 key/value pairs:\n",
    "\n",
    "- `'features'` is a 4D array containing raw pixel data of the traffic sign images, (num examples, width, height, channels).\n",
    "- `'labels'` is a 1D array containing the label/class id of the traffic sign. The file `signnames.csv` contains id -> name mappings for each id.\n",
    "- `'sizes'` is a list containing tuples, (width, height) representing the original width and height the image.\n",
    "- `'coords'` is a list containing tuples, (x1, y1, x2, y2) representing coordinates of a bounding box around the sign in the image. **THESE COORDINATES ASSUME THE ORIGINAL IMAGE. THE PICKLED DATA CONTAINS RESIZED VERSIONS (32 by 32) OF THESE IMAGES**\n",
    "\n",
    "Complete the basic data summary below. Use python, numpy and/or pandas methods to calculate the data summary rather than hard coding the results. For example, the [pandas shape method](http://pandas.pydata.org/pandas-docs/stable/generated/pandas.DataFrame.shape.html) might be useful for calculating some of the summary results. "
   ]
  },
  {
   "cell_type": "markdown",
   "metadata": {},
   "source": [
    "### Provide a Basic Summary of the Data Set Using Python, Numpy and/or Pandas"
   ]
  },
  {
   "cell_type": "code",
   "execution_count": null,
   "metadata": {},
   "outputs": [],
   "source": [
    "import numpy as np\n",
    "import pandas as pd\n",
    "\n",
    "np.random.seed(0)"
   ]
  },
  {
   "cell_type": "code",
   "execution_count": null,
   "metadata": {},
   "outputs": [],
   "source": [
    "### Replace each question mark with the appropriate value. \n",
    "### Use python, pandas or numpy methods rather than hard coding the results\n",
    "\n",
    "# TODO: Number of training examples\n",
    "n_train = y_train.size\n",
    "\n",
    "# TODO: Number of validation examples\n",
    "n_validation = y_valid.size\n",
    "\n",
    "# TODO: Number of testing examples.\n",
    "n_test = y_test.size\n",
    "\n",
    "# TODO: What's the shape of an traffic sign image?\n",
    "image_shape = X_train[0].shape\n",
    "\n",
    "# TODO: How many unique classes/labels there are in the dataset.\n",
    "n_classes = np.unique(y_valid).size\n",
    "\n",
    "print(\"Number of training examples =\", n_train)\n",
    "print(\"Number of testing examples =\", n_test)\n",
    "print(\"Image data shape =\", image_shape)\n",
    "print(\"Number of classes =\", n_classes)"
   ]
  },
  {
   "cell_type": "markdown",
   "metadata": {},
   "source": [
    "### Include an exploratory visualization of the dataset"
   ]
  },
  {
   "cell_type": "markdown",
   "metadata": {},
   "source": [
    "Visualize the German Traffic Signs Dataset using the pickled file(s). This is open ended, suggestions include: plotting traffic sign images, plotting the count of each sign, etc. \n",
    "\n",
    "The [Matplotlib](http://matplotlib.org/) [examples](http://matplotlib.org/examples/index.html) and [gallery](http://matplotlib.org/gallery.html) pages are a great resource for doing visualizations in Python.\n",
    "\n",
    "**NOTE:** It's recommended you start with something simple first. If you wish to do more, come back to it after you've completed the rest of the sections. It can be interesting to look at the distribution of classes in the training, validation and test set. Is the distribution the same? Are there more examples of some classes than others?"
   ]
  },
  {
   "cell_type": "code",
   "execution_count": null,
   "metadata": {},
   "outputs": [],
   "source": [
    "### Data exploration visualization code goes here.\n",
    "### Feel free to use as many code cells as needed.\n",
    "import matplotlib.pyplot as plt\n",
    "# Visualizations will be shown in the notebook.\n",
    "%matplotlib inline"
   ]
  },
  {
   "cell_type": "code",
   "execution_count": null,
   "metadata": {},
   "outputs": [],
   "source": [
    "def plot_brief_stats_for(pickled_data, plot_title):\n",
    "    total_val_items = pickled_data['labels'].size\n",
    "    pickled_df = pd.DataFrame(pickled_data['labels'])\n",
    "    # Copy the column for naming\n",
    "    pickled_df['label_name'] = pickled_df[0].values\n",
    "    # Using the name map to name columns\n",
    "    named_df = pickled_df.replace({'label_name' : gtsrb_label_map})\n",
    "    unique_labels = named_df.label_name.value_counts()\n",
    "    # Validate we still have the same count of items in the original data\n",
    "    # and the sum of value counts in the dataframe\n",
    "    assert(total_val_items == unique_labels.sum())\n",
    "    plt.figure(figsize=(8,15));\n",
    "    unique_labels.plot.barh(title=plot_title)"
   ]
  },
  {
   "cell_type": "code",
   "execution_count": null,
   "metadata": {},
   "outputs": [],
   "source": [
    "plot_brief_stats_for(train, \"Training data classes distribution\")"
   ]
  },
  {
   "cell_type": "code",
   "execution_count": null,
   "metadata": {},
   "outputs": [],
   "source": [
    "plot_brief_stats_for(valid, \"Validation data classes distribution\")"
   ]
  },
  {
   "cell_type": "code",
   "execution_count": null,
   "metadata": {},
   "outputs": [],
   "source": [
    "plot_brief_stats_for(test, \"Test data classes distribution\")"
   ]
  },
  {
   "cell_type": "markdown",
   "metadata": {},
   "source": [
    "#### Dataset exploration conclusions\n",
    "\n",
    "As it is described above, all the train, validation and test splits in GTSRB dataset have similar distributions. The most common classes are for signs '50_speed', '30_speed', 'give_way', and the rarest is 'attention_left_turn'. I suppose, that the model accuracy would be the best for most common signs and the poorest for the rarest ones.\n",
    "\n",
    "Also I have noticed there is no 'no sign' or 'empty' class, so I suppose any model, trained on this dataset, would treat *any* image as a road sign and providing some non-zero probability for it. This should be taken into account when deploying the model.\n",
    "\n",
    "Probably, a good investment would be to add some random images and/or noise to a special \"empty\" class, having the size of this class about 1/43 (TBD) of the total examples in the dataset - in this case the model might also detect that there is NO road sign in a given image."
   ]
  },
  {
   "cell_type": "markdown",
   "metadata": {},
   "source": [
    "----\n",
    "\n",
    "## Step 2: Design and Test a Model Architecture\n",
    "\n",
    "Design and implement a deep learning model that learns to recognize traffic signs. Train and test your model on the [German Traffic Sign Dataset](http://benchmark.ini.rub.de/?section=gtsrb&subsection=dataset).\n",
    "\n",
    "The LeNet-5 implementation shown in the [classroom](https://classroom.udacity.com/nanodegrees/nd013/parts/fbf77062-5703-404e-b60c-95b78b2f3f9e/modules/6df7ae49-c61c-4bb2-a23e-6527e69209ec/lessons/601ae704-1035-4287-8b11-e2c2716217ad/concepts/d4aca031-508f-4e0b-b493-e7b706120f81) at the end of the CNN lesson is a solid starting point. You'll have to change the number of classes and possibly the preprocessing, but aside from that it's plug and play! \n",
    "\n",
    "With the LeNet-5 solution from the lecture, you should expect a validation set accuracy of about 0.89. To meet specifications, the validation set accuracy will need to be at least 0.93. It is possible to get an even higher accuracy, but 0.93 is the minimum for a successful project submission. \n",
    "\n",
    "There are various aspects to consider when thinking about this problem:\n",
    "\n",
    "- Neural network architecture (is the network over or underfitting?)\n",
    "- Play around preprocessing techniques (normalization, rgb to grayscale, etc)\n",
    "- Number of examples per label (some have more than others).\n",
    "- Generate fake data.\n",
    "\n",
    "Here is an example of a [published baseline model on this problem](http://yann.lecun.com/exdb/publis/pdf/sermanet-ijcnn-11.pdf). It's not required to be familiar with the approach used in the paper but, it's good practice to try to read papers like these."
   ]
  },
  {
   "cell_type": "markdown",
   "metadata": {},
   "source": [
    "### Pre-process the Data Set (normalization, grayscale, etc.)"
   ]
  },
  {
   "cell_type": "markdown",
   "metadata": {},
   "source": [
    "Minimally, the image data should be normalized so that the data has mean zero and equal variance. For image data, `(pixel - 128)/ 128` is a quick way to approximately normalize the data and can be used in this project. \n",
    "\n",
    "Other pre-processing steps are optional. You can try different techniques to see if it improves performance. \n",
    "\n",
    "Use the code cell (or multiple code cells, if necessary) to implement the first step of your project."
   ]
  },
  {
   "cell_type": "code",
   "execution_count": null,
   "metadata": {},
   "outputs": [],
   "source": [
    "import cv2\n",
    "from plot_helper import *"
   ]
  },
  {
   "cell_type": "code",
   "execution_count": null,
   "metadata": {},
   "outputs": [],
   "source": [
    "### Preprocess the data here. It is required to normalize the data. Other preprocessing steps could include \n",
    "### converting to grayscale, etc.\n",
    "### Feel free to use as many code cells as needed.\n",
    "def normalize_pickle(img):\n",
    "    fl = img.astype(np.float32)\n",
    "    return (fl - 128.) / 128.\n",
    "    \n",
    "def to_gray(rgb_img):\n",
    "    return cv2.cvtColor(rgb_img, cv2.COLOR_RGB2GRAY)"
   ]
  },
  {
   "cell_type": "code",
   "execution_count": null,
   "metadata": {},
   "outputs": [],
   "source": [
    "# Augmentation: salt and pepper noise, horizontal flip, color bleaching\n",
    "def flip_horizontally(img: np.array):\n",
    "    '''\n",
    "    Expects an image or a vector of images.\n",
    "    Image rank must be 3; (32, 32, 1) for grayscale, (32,32,3) for RGB\n",
    "    ''' \n",
    "    return np.fliplr(img)\n",
    "    \n",
    "def bleach(img: np.array, channel=2):\n",
    "    '''\n",
    "    Expects an image or a vector of images.\n",
    "    Image rank must be 3; (32, 32, 1) for grayscale, (32,32,3) for RGB\n",
    "    Channel is [0..2], 0 - red, 1 - green, ...\n",
    "    \"Bleaches\" the given color channel.\n",
    "    '''\n",
    "    output = img.copy()\n",
    "    output[:,:,channel] = img[:,:,channel] // 2 + img[:,:,channel] // 3\n",
    "    return output\n",
    "    \n",
    "def salt_pepper(img: np.array, prob=0.2):\n",
    "    '''\n",
    "    Expects an image or a vector of images.\n",
    "    Image rank must be 3; (32, 32, 1) for grayscale, (32,32,3) for RGB\n",
    "    Prob is in range 0..1 - probability of noising this particular pixel.\n",
    "    Based on \n",
    "    https://stackoverflow.com/questions/22937589/how-to-add-noise-gaussian-salt-and-pepper-etc-to-image-in-python-with-opencv\n",
    "    https://gist.github.com/lucaswiman/1e877a164a69f78694f845eab45c381a\n",
    "    '''\n",
    "    output = img.copy()\n",
    "    min_ = img.min();\n",
    "    max_ = img.max();\n",
    "    if len(img.shape) == 2:\n",
    "        black = min_\n",
    "        white = max_            \n",
    "    else:\n",
    "        black = np.array([min_, min_, min_], dtype='uint8')\n",
    "        white = np.array([max_, max_, max_], dtype='uint8')\n",
    "    probs = np.random.random(img.shape[:2])\n",
    "    output[probs < (prob / 2)] = black\n",
    "    output[probs > (1 - (prob / 4))] = white\n",
    "    return output\n",
    "\n",
    "def to_3ch_gray(img):\n",
    "    '''\n",
    "    Converts an rgb image to grayscale (but a 3-channel one)\n",
    "    '''\n",
    "    return cv2.cvtColor(cv2.cvtColor(img, cv2.COLOR_RGB2GRAY), cv2.COLOR_GRAY2RGB)\n",
    "\n",
    "def zoom_in(img, ratio=0.35):\n",
    "    '''\n",
    "    Makes a center region of the image larger\n",
    "    ratio - if 0.5, would scale twice.\n",
    "    '''\n",
    "    half_ratio = ratio / 2\n",
    "    h, w = img.shape[:2]\n",
    "    offset = int(h * half_ratio)\n",
    "    roi = img[offset:h - offset, offset:w-offset]\n",
    "    return cv2.resize(roi, (w,h), cv2.INTER_LANCZOS4)"
   ]
  },
  {
   "cell_type": "code",
   "execution_count": null,
   "metadata": {},
   "outputs": [],
   "source": [
    "# Plotting preprocessing step examples.\n",
    "# The \"normalized\" image, converted back (to_image(...)) must\n",
    "# looks very close to the original feature array, converted to_image.\n",
    "img_piece = valid['features'][1300].copy()\n",
    "\n",
    "print(\"Stats : min {} mean {} max {}\".format(img_piece.min(), img_piece.mean(), img_piece.max()))\n",
    "\n",
    "norm = normalize_pickle(img_piece)\n",
    "\n",
    "two_f = plt.figure(figsize=(8,4))\n",
    "two_f.suptitle(\"Normalization verification\")\n",
    "two_f.add_subplot(1, 2, 1)\n",
    "plt.imshow(to_image(img_piece))\n",
    "two_f.add_subplot(1, 2, 2)\n",
    "plt.imshow(to_image(norm))\n",
    "\n",
    "# Display various augmentations and their combinations\n",
    "f = plt.figure(figsize=(8,4))\n",
    "f.suptitle(\"Augmentations\")\n",
    "f.add_subplot(2, 4, 1)\n",
    "plt.imshow(to_image(img_piece))\n",
    "f.add_subplot(2, 4, 2)\n",
    "plt.imshow(to_image(bleach(img_piece, 0)))\n",
    "f.add_subplot(2, 4, 3)\n",
    "plt.imshow(to_image(zoom_in(bleach(img_piece, 1), 0.35)))\n",
    "f.add_subplot(2, 4, 4)\n",
    "plt.imshow(to_image(bleach(img_piece, 2)))\n",
    "f.add_subplot(2, 4, 5)\n",
    "plt.imshow(to_image(bleach(salt_pepper(img_piece), 0)))\n",
    "f.add_subplot(2, 4, 6)\n",
    "plt.imshow(to_image(to_3ch_gray(img_piece)))\n",
    "f.add_subplot(2, 4, 7)\n",
    "plt.imshow(to_image(bleach(salt_pepper(img_piece), 2)))\n",
    "f.add_subplot(2, 4, 8)\n",
    "plt.imshow(to_image(salt_pepper(img_piece)))\n",
    "plt.show(block=True)\n"
   ]
  },
  {
   "cell_type": "code",
   "execution_count": null,
   "metadata": {},
   "outputs": [],
   "source": [
    "# Normalize and augment train, validation and test datasets.\n",
    "# For each train image we create 7 augmented ones:\n",
    "# 1. bleached green\n",
    "# 2. bleached red + zoom in\n",
    "# 3. bleached blue\n",
    "# 4. salt_pepper + bleached green\n",
    "# 5. salt_pepper + grey\n",
    "# 6. salt_pepper + bleached blue + zoom in\n",
    "# 7. salt_pepper\n",
    "#'''\n",
    "salted = X_train.copy()\n",
    "bleach_0 = X_train.copy()\n",
    "bleach_1 = X_train.copy()\n",
    "bleach_2 = X_train.copy()\n",
    "salted_bleach_0 = X_train.copy()\n",
    "salted_bleach_1 = X_train.copy()\n",
    "salted_bleach_2 = X_train.copy()\n",
    "for i in range(0, X_train.shape[0]):\n",
    "    salted[i] = salt_pepper(X_train[i])\n",
    "    bleach_0[i] = bleach(X_train[i], 0)\n",
    "    bleach_2[i] = zoom_in(bleach(X_train[i], 1))\n",
    "    bleach_1[i] = bleach(X_train[i], 2)\n",
    "    salted_bleach_0[i] = bleach(salt_pepper(X_train[i]), 0)\n",
    "    salted_bleach_1[i] = to_3ch_gray(salt_pepper(X_train[i]))\n",
    "    salted_bleach_2[i] = bleach(salt_pepper(zoom_in(X_train[i])), 2)\n",
    "#'''"
   ]
  },
  {
   "cell_type": "code",
   "execution_count": null,
   "metadata": {},
   "outputs": [],
   "source": [
    "# Visualize some augmented training images\n",
    "#'''\n",
    "IMG_TO_SHOW = 9\n",
    "f = plt.figure(figsize=(8,4))\n",
    "f.suptitle(\"Augmentations\")\n",
    "f.add_subplot(2, 4, 1)\n",
    "plt.imshow(to_image(X_train[IMG_TO_SHOW]))\n",
    "f.add_subplot(2, 4, 2)\n",
    "plt.imshow(to_image(bleach_0[IMG_TO_SHOW]))\n",
    "f.add_subplot(2, 4, 3)\n",
    "plt.imshow(to_image(bleach_1[IMG_TO_SHOW]))\n",
    "f.add_subplot(2, 4, 4)\n",
    "plt.imshow(to_image(bleach_2[IMG_TO_SHOW]))\n",
    "f.add_subplot(2, 4, 5)\n",
    "plt.imshow(to_image(salted_bleach_0[IMG_TO_SHOW]))\n",
    "f.add_subplot(2, 4, 6)\n",
    "plt.imshow(to_image(salted_bleach_1[IMG_TO_SHOW]))\n",
    "f.add_subplot(2, 4, 7)\n",
    "plt.imshow(to_image(salted_bleach_2[IMG_TO_SHOW]))\n",
    "f.add_subplot(2, 4, 8)\n",
    "plt.imshow(to_image(salted[IMG_TO_SHOW]))\n",
    "plt.show(block=True)\n",
    "#'''"
   ]
  },
  {
   "cell_type": "code",
   "execution_count": null,
   "metadata": {},
   "outputs": [],
   "source": [
    "# Stack the augmented data back to training dataset\n",
    "# with the same labels\n",
    "#'''\n",
    "X_train_aug = np.concatenate([\n",
    "    X_train,\n",
    "    salted,\n",
    "    bleach_0,\n",
    "    bleach_1,\n",
    "    bleach_2,\n",
    "    salted_bleach_0,\n",
    "    salted_bleach_1,\n",
    "    salted_bleach_2,\n",
    "], axis=0)\n",
    "assert(X_train_aug.shape[0] == X_train.shape[0] * 8)\n",
    "\n",
    "y_train_aug = np.concatenate([y_train,y_train,y_train,y_train,y_train,y_train,y_train,y_train], axis=0)\n",
    "assert(y_train_aug.shape[0] == y_train.shape[0] * 8)\n",
    "#'''"
   ]
  },
  {
   "cell_type": "code",
   "execution_count": null,
   "metadata": {},
   "outputs": [],
   "source": [
    "# Some sanity check after augmentation\n",
    "xlen = X_train.shape[0]\n",
    "ylen = y_train.shape[0]\n",
    "assert(xlen == ylen)\n",
    "limit = 209 # A limit between 2 signs\n",
    "assert(y_train_aug[limit] == y_train_aug[xlen + limit])\n",
    "assert(y_train_aug[limit+1] == y_train_aug[xlen + limit+1])\n",
    "assert(y_train_aug[limit] != y_train_aug[xlen + limit+1])\n",
    "\n"
   ]
  },
  {
   "cell_type": "markdown",
   "metadata": {},
   "source": [
    "### Model Architecture"
   ]
  },
  {
   "cell_type": "code",
   "execution_count": null,
   "metadata": {},
   "outputs": [],
   "source": [
    "### Define your architecture here.\n",
    "### Feel free to use as many code cells as needed.\n",
    "import tensorflow as tf\n",
    "tf.compat.v1.disable_eager_execution()"
   ]
  },
  {
   "cell_type": "code",
   "execution_count": null,
   "metadata": {},
   "outputs": [],
   "source": [
    "GTSRB_CLASSES = 43"
   ]
  },
  {
   "cell_type": "code",
   "execution_count": null,
   "metadata": {},
   "outputs": [],
   "source": [
    "#from tensorflow.contrib.layers import flatten\n",
    "\n",
    "def LeNet(x, dropout_rate):    \n",
    "    # Arguments used for tf.truncated_normal, randomly defines variables for the weights and biases for each layer\n",
    "    mu = 0\n",
    "    sigma = 0.1\n",
    "    \n",
    "    # Convolution filter\n",
    "    filter_size_width = 5\n",
    "    filter_size_height = 5\n",
    "    color_channels = 3\n",
    "    conv2d_1_output = 8\n",
    "    # Input/Image\n",
    "    print('x : ', x.shape)\n",
    "    \n",
    "    # Weight and bias\n",
    "    conv2d_1_W = tf.Variable(tf.compat.v1.random.truncated_normal(shape=(\n",
    "        filter_size_height, filter_size_width, color_channels, conv2d_1_output)\n",
    "                                                , mean=mu, stddev=sigma))\n",
    "    conv2d_1_b = tf.Variable(tf.zeros(conv2d_1_output))\n",
    "\n",
    "    # Layer 1: Convolutional. Input = 32x32x3. Output = 28x28x6.\n",
    "    conv2d_1 = tf.nn.conv2d(x, conv2d_1_W, strides=[1, 1, 1, 1], padding='VALID')\n",
    "    conv2d_1 = tf.nn.bias_add(conv2d_1, conv2d_1_b)\n",
    "    conv2d_1 = tf.nn.relu(conv2d_1)\n",
    "    print('conv2d_1 : ', conv2d_1.shape)\n",
    "\n",
    "    # TODO: Pooling. Input = 28x28x6. Output = 14x14x6.\n",
    "    max_pool_1 = tf.nn.max_pool(conv2d_1, ksize=[1,3,3,1], strides=[1, 1, 1, 1], padding='VALID')\n",
    "    print('max_pool_1 : ', max_pool_1.shape)\n",
    "    \n",
    "    dropout_1 = tf.nn.dropout(max_pool_1, rate=dropout_rate)\n",
    "    \n",
    "    # TODO: Layer 2: Convolutional. Output = 10x10x16.\n",
    "    conv2d_2_output = 16\n",
    "    conv2d_2_W = tf.Variable(tf.compat.v1.random.truncated_normal(shape=(filter_size_height, \n",
    "                                                        filter_size_width, conv2d_1_output, conv2d_2_output)\n",
    "                                                 , mean=mu, stddev=sigma))\n",
    "    conv2d_2_b = tf.Variable(tf.zeros(conv2d_2_output))\n",
    "    \n",
    "    conv2d_2 = tf.nn.conv2d(dropout_1, conv2d_2_W, strides=[1, 1, 1, 1], padding='VALID')\n",
    "    conv2d_2 = tf.nn.bias_add(conv2d_2, conv2d_2_b)\n",
    "    conv2d_2 = tf.nn.relu(conv2d_2)\n",
    "    print('conv_layer_2 : ', conv2d_2.shape)\n",
    "    \n",
    "    # TODO: Pooling. Input = 10x10x16. Output = 5x5x16.\n",
    "    max_pool_2 = tf.nn.max_pool(conv2d_2, ksize=[1,3,3,1], strides=[1, 2, 2, 1], padding='VALID')\n",
    "    print('max_pool_2 : ', max_pool_2.shape)\n",
    "    \n",
    "    dropout_2 = tf.nn.dropout(max_pool_2, rate=dropout_rate)\n",
    "\n",
    "        # TODO: Layer 2: Convolutional. Output = 10x10x16.\n",
    "    conv2d_3_output = 32\n",
    "    conv2d_3_W = tf.Variable(tf.compat.v1.random.truncated_normal(shape=(filter_size_height, filter_size_width,\n",
    "                                                        conv2d_2_output, conv2d_3_output)\n",
    "                                                , mean=mu, stddev=sigma))\n",
    "    conv2d_3_b = tf.Variable(tf.zeros(conv2d_3_output))\n",
    "    \n",
    "    conv2d_3 = tf.nn.conv2d(dropout_2, conv2d_3_W, strides=[1, 1, 1, 1], padding='VALID')\n",
    "    conv2d_3 = tf.nn.bias_add(conv2d_3, conv2d_3_b)\n",
    "    conv2d_3 = tf.nn.relu(conv2d_3)\n",
    "    print('conv_layer_3 : ', conv2d_3.shape)\n",
    "    \n",
    "    # TODO: Pooling. Input = 10x10x16. Output = 5x5x16.\n",
    "    max_pool_3 = tf.nn.max_pool(conv2d_3, ksize=[1,3,3,1], strides=[1, 2, 2, 1], padding='VALID')\n",
    "    print('max_pool_2 : ', max_pool_3.shape)\n",
    "    \n",
    "    dropout_3 = tf.nn.dropout(max_pool_3, rate=dropout_rate)\n",
    "\n",
    "    # TODO: Flatten. Input = 5x5x16. Output = 400.\n",
    "    flatt = tf.compat.v1.layers.flatten(dropout_3)\n",
    "    print('flatten : ', flatt.shape)\n",
    "    \n",
    "    # Layer 3: Fully Connected. \n",
    "    dense_1_out = GTSRB_CLASSES * 2\n",
    "    dense_1_W = tf.Variable(tf.compat.v1.random.truncated_normal(shape=(int(flatt.shape[-1]), dense_1_out)\n",
    "                                                , mean=mu, stddev=sigma ))\n",
    "    dense_1_b = tf.Variable(tf.zeros(dense_1_out))\n",
    "    dense_1 = tf.nn.relu(tf.add(tf.matmul(flatt, dense_1_W), dense_1_b))\n",
    "    print('dense_1 : ', dense_1.shape)\n",
    "\n",
    "    # Layer 4: Fully Connected.\n",
    "    dense_2_out = GTSRB_CLASSES * 2\n",
    "    dense_2_W = tf.Variable(tf.compat.v1.random.truncated_normal(shape=(dense_1_out, dense_2_out)\n",
    "                                                , mean=mu, stddev=sigma))\n",
    "    dense_2_b = tf.Variable(tf.zeros(dense_2_out))\n",
    "    dense_2 = tf.nn.relu(tf.add(tf.matmul(dense_1, dense_2_W), dense_2_b))\n",
    "    print('dense_2 : ', dense_2.shape)\n",
    "    \n",
    "    # Layer 5: Fully Connected.\n",
    "    dense_3_out = GTSRB_CLASSES * 1\n",
    "    dense_3_W = tf.Variable(tf.compat.v1.truncated_normal(shape=(dense_2_out, dense_3_out)\n",
    "                                                , mean=mu, stddev=sigma ))\n",
    "    dense_3_b = tf.Variable(tf.zeros(dense_3_out))\n",
    "    dense_3 = tf.add(tf.matmul(dense_2, dense_3_W), dense_3_b)\n",
    "    print('dense_3 : ', dense_3.shape)\n",
    "    \n",
    "    logits = dense_3\n",
    "    return logits"
   ]
  },
  {
   "cell_type": "code",
   "execution_count": null,
   "metadata": {},
   "outputs": [],
   "source": [
    "x = tf.compat.v1.placeholder(tf.float32, (None, 32, 32, 3))\n",
    "y = tf.compat.v1.placeholder(tf.int32, (None))\n",
    "d_rate = tf.compat.v1.placeholder(tf.float32, ())\n",
    "one_hot_y = tf.one_hot(y, GTSRB_CLASSES)"
   ]
  },
  {
   "cell_type": "markdown",
   "metadata": {},
   "source": [
    "## Training Pipeline\n",
    "Create a training pipeline that uses the model to classify GTSRB data.\n",
    "\n",
    "You do not need to modify this section."
   ]
  },
  {
   "cell_type": "code",
   "execution_count": null,
   "metadata": {},
   "outputs": [],
   "source": [
    "rate = 0.002\n",
    "\n",
    "logits = LeNet(x, d_rate)\n",
    "cross_entropy = tf.nn.softmax_cross_entropy_with_logits(labels=one_hot_y, logits=logits)\n",
    "loss_operation = tf.reduce_mean(cross_entropy)\n",
    "optimizer = tf.compat.v1.train.AdamOptimizer(learning_rate = rate)\n",
    "training_operation = optimizer.minimize(loss_operation)"
   ]
  },
  {
   "cell_type": "code",
   "execution_count": null,
   "metadata": {},
   "outputs": [],
   "source": [
    "correct_prediction = tf.equal(tf.argmax(logits, 1), tf.argmax(one_hot_y, 1))\n",
    "accuracy_operation = tf.reduce_mean(tf.cast(correct_prediction, tf.float32))\n",
    "saver = tf.compat.v1.train.Saver()"
   ]
  },
  {
   "cell_type": "markdown",
   "metadata": {},
   "source": [
    "### Train, Validate and Test the Model"
   ]
  },
  {
   "cell_type": "markdown",
   "metadata": {},
   "source": [
    "A validation set can be used to assess how well the model is performing. A low accuracy on the training and validation\n",
    "sets imply underfitting. A high accuracy on the training set but low accuracy on the validation set implies overfitting."
   ]
  },
  {
   "cell_type": "code",
   "execution_count": null,
   "metadata": {},
   "outputs": [],
   "source": [
    "### Train your model here.\n",
    "### Calculate and report the accuracy on the training and validation set.\n",
    "### Once a final model architecture is selected, \n",
    "### the accuracy on the test set should be calculated and reported as well.\n",
    "### Feel free to use as many code cells as needed.\n",
    "from sklearn.utils import shuffle\n",
    "\n",
    "#X_train, y_train = shuffle(X_train, y_train)\n",
    "X_train, y_train = shuffle(X_train_aug, y_train_aug)\n",
    "\n",
    "# Fraction can be used for preliminary short runs over a huge augmented dataset\n",
    "# for coarse tuning of hyperparams\n",
    "TRAIN_FRACTION = X_train.shape[0]# // 10\n",
    "\n",
    "X_train = normalize_pickle(X_train)[:TRAIN_FRACTION]\n",
    "y_train = y_train[:TRAIN_FRACTION]\n",
    "\n",
    "X_valid = normalize_pickle(X_valid)\n",
    "X_test = normalize_pickle(X_test)\n"
   ]
  },
  {
   "cell_type": "code",
   "execution_count": null,
   "metadata": {},
   "outputs": [],
   "source": [
    "def evaluate(X_data, y_data):\n",
    "    num_examples = len(X_data)\n",
    "    total_accuracy = 0\n",
    "    sess = tf.compat.v1.get_default_session()\n",
    "    for offset in range(0, num_examples, BATCH_SIZE):\n",
    "        batch_x, batch_y = X_data[offset:offset+BATCH_SIZE], y_data[offset:offset+BATCH_SIZE]\n",
    "        accuracy = sess.run(accuracy_operation, feed_dict={x: batch_x, y: batch_y, d_rate:0.0})\n",
    "        total_accuracy += (accuracy * len(batch_x))\n",
    "    return total_accuracy / num_examples"
   ]
  },
  {
   "cell_type": "code",
   "execution_count": null,
   "metadata": {},
   "outputs": [],
   "source": [
    "# Before training, check that we are on GPU\n",
    "print(tf.__version__)\n",
    "print(\"TF built with GPU support : \", tf.test.is_built_with_cuda())\n",
    "print(\"GPU available : \", tf.test.is_gpu_available())"
   ]
  },
  {
   "cell_type": "code",
   "execution_count": null,
   "metadata": {},
   "outputs": [],
   "source": [
    "gpus = tf.config.experimental.list_physical_devices('GPU')\n",
    "if gpus:\n",
    "    try:\n",
    "        tf.config.experimental.set_virtual_device_configuration(gpus[0], [tf.config.experimental.VirtualDeviceConfiguration(memory_limit=1024)])\n",
    "    except RuntimeError as e:\n",
    "        print(e)"
   ]
  },
  {
   "cell_type": "code",
   "execution_count": null,
   "metadata": {},
   "outputs": [],
   "source": [
    "BATCH_SIZE = 256\n",
    "EPOCHS = 32\n",
    "accuracies = []\n",
    "max_acc = 0.0"
   ]
  },
  {
   "cell_type": "code",
   "execution_count": null,
   "metadata": {
    "scrolled": true
   },
   "outputs": [],
   "source": [
    "with tf.compat.v1.Session() as sess:\n",
    "    accuracies = []\n",
    "    sess.run(tf.compat.v1.global_variables_initializer())\n",
    "    num_examples = len(X_train)\n",
    "    max_bad_epochs = 3\n",
    "    bad_epochs = 0\n",
    "    last_val_acc = 0\n",
    "    print(\"Training on {} examples ...\".format(X_train.shape[0]))\n",
    "    print()\n",
    "    for i in range(EPOCHS):\n",
    "        X_train, y_train = shuffle(X_train, y_train)\n",
    "        for offset in range(0, num_examples, BATCH_SIZE):\n",
    "            end = offset + BATCH_SIZE\n",
    "            batch_x, batch_y = X_train[offset:end], y_train[offset:end]\n",
    "            sess.run(training_operation, feed_dict={x: batch_x, y: batch_y, d_rate: 0.15})\n",
    "            \n",
    "        validation_accuracy = evaluate(X_valid, y_valid)\n",
    "        print(\"EPOCH {} ...\".format(i+1))\n",
    "        print(\"Validation Accuracy = {:.3f}\".format(validation_accuracy))\n",
    "        accuracies.append(validation_accuracy)\n",
    "        max_acc = max(validation_accuracy, max_acc)\n",
    "        if validation_accuracy < last_val_acc:\n",
    "            bad_epochs += 1\n",
    "        else\n",
    "            bad_epochs = 0\n",
    "        last_val_acc = validation_accuracy\n",
    "        if bad_epochs >= max_bad_epochs:\n",
    "            print(\"Early stop triggered.\")\n",
    "            break\n",
    "        print()\n",
    "        \n",
    "    saver.save(sess, './traffic_sign_lenet')\n",
    "    print(\"End val_acc {:.3f}, max val_acc {:.3f}. Model saved.\".format(last_val_acc, max_acc))"
   ]
  },
  {
   "cell_type": "code",
   "execution_count": null,
   "metadata": {},
   "outputs": [],
   "source": [
    "acc_plot = pd.DataFrame(accuracies)\n",
    "acc_plot.plot.line()"
   ]
  },
  {
   "cell_type": "markdown",
   "metadata": {},
   "source": [
    "##### biases inited with zeros in Dense layers, 3 Dense layers instead of 2. First Conv to 8 from 6 filters.\n",
    "\n",
    "x8//10 gr-z-aug dataset, batch 512, 32 ep., dropout 0.15 lr 0.002\n",
    "0.957 - okay, that's better.\n",
    "\n",
    "x8 gr-z-aug dataset, batch 512, 32 ep., dropout 0.15 lr 0.002 **FULL TRAIN**\n",
    "0.911,   0.951,  0.961 -- much better then the initial GPU one.\n",
    "0.971  but was even a bit better -- early stop required!\n",
    "\n",
    "x8 gr-z-aug dataset, batch 256, 32 ep., dropout 0.15 lr 0.002 **FULL TRAIN**\n",
    "\n",
    "\n",
    "##### Tensorflow 2.3.1 on GPU (CUDA 10.1, cudnn 7.6)\n",
    "\n",
    "x8 aug dataset, batch 512, 100 ep., dropout 0.25\n",
    "(previous good valacc on GPU was 0.93)\n",
    "0.892 on the second epoch! 0.927 on third!\n",
    "0.965 +- is a maximum on 15 epochs. Allright, let's tune it.\n",
    "\n",
    "x8 aug dataset, batch 256, 16 ep., dropout 0.2 (lr 0.001)\n",
    "0.948 |3|     0.955 |5|\n",
    "\n",
    "x8 gr-z-aug dataset, batch 256, 16 ep., dropout 0.2\n",
    "|1| 0.900   |3| 0.943  |8| 0.965 (best)   then degrading\n",
    "\n",
    "x8//10 gr-z-aug dataset, batch 1024, 16 ep., dropout 0.2 lr 0.002\n",
    "constant growth, break at 0.86\n",
    "\n",
    "x8//10 gr-z-aug dataset, batch 1024, 32 ep., dropout 0.2 lr 0.001\n",
    "constant growing until 0.9 -- not bad.\n",
    "\n",
    "x8//10 gr-z-aug dataset, batch 1024, 32 ep., dropout 0.2 lr 0.0005\n",
    "0.871 -- worse.\n",
    "\n",
    "x8//10 gr-z-aug dataset, batch 1024, 32 ep., dropout 0.2 lr 0.005\n",
    "0.935, wobbly valacc after ~25 ep.\n",
    "\n",
    "x8//10 gr-z-aug dataset, batch 512, 32 ep., dropout 0.2 lr 0.003\n",
    "0.932\n",
    "\n",
    "x8//10 gr-z-aug dataset, batch 1024, 32 ep., dropout 0.2 lr 0.008\n",
    "0.928\n",
    "\n",
    "x8//10 gr-z-aug dataset, batch 1024, 32 ep., dropout 0.3 lr 0.008\n",
    "0.885\n",
    "\n",
    "x8//10 gr-z-aug dataset, batch 1024, 32 ep., dropout 0.15 lr 0.002\n",
    "0.932\n",
    "\n",
    "x8//10 gr-z-aug dataset, batch 512, 32 ep., dropout 0.15 lr 0.002\n",
    "0.941\n",
    "\n",
    "\n",
    "\n",
    "\n",
    "### older\n",
    "##### LeNet on 10 epochs is ~ 0.96 validation, can I beat this?\n",
    "\n",
    "batch 1024, 20 epochs, preprocessed -- the dynamic is ok, result soso (0.068)\n",
    "\n",
    "batch 128,  20 epochs, preprocessed -- the dynamic is the same, result the same (0.065)\n",
    "\n",
    "batch 128,  20 epochs, grayscale -- dynamics is shit already.\n",
    "\n",
    "batch 200,  20 epochs, grayscale -- 0.055\n",
    "\n",
    "8-32-d-d 0.055\n",
    "\n",
    "okay, batch 32 -- still the same.\n",
    "batch 512 -- shit.\n",
    "\n",
    "OKay, 3 Conv layers added -- the dynamics is nice up to 0.3, then falls down. Why?\n",
    "\n",
    "Oh, the (mean=mu, stddev=sigma) thing in the weight initialization! it really did the trick!\n",
    "\n",
    "Preprocessed color, B128, 20 epochs.\n",
    "0.944 - not bad!\n",
    "\n",
    "##### Dropout and augmentation\n",
    "\n",
    "x8 augmentation, batch 512. Very long epoch (GPU needed)\n",
    "\n",
    "x8 augm, 5k examples, batch 1024, dropout, 100 epochs - max 0.78\n",
    "\n",
    "x8 augm, 20k examples, batch 1024, dropout, 100 epochs - 0.78 on 20 ep. 0.85 on 40 ep. 0.88 on 60, 0.904 final\n",
    "\n",
    "x8 augm, 280k examples, batch 2048, dropout, 50 epochs -\n",
    "valacc 0.57 on 1st epoch! 0.788 on second, 0.888 on 6th. 0.9 on 13., 0.92 on 15\n",
    "\n",
    "##### Damn, I still use dropout on validation and testing!\n",
    "\n",
    "I need to set the dropout as a placeholder and remove it while validation.\n",
    "\n",
    "x8 augm, 28k examples, batch 2048, dropout, 50 epochs -- 0.8 on ep.22, 0.88 on 30\n",
    "\n",
    "x8 augm, 70k examples, batch 1024, dropout, 50 epochs -- 0.89\n"
   ]
  },
  {
   "cell_type": "markdown",
   "metadata": {},
   "source": [
    "---\n",
    "\n",
    "## Step 3: Test a Model on New Images\n",
    "\n",
    "To give yourself more insight into how your model is working, download at least five pictures of German traffic signs from the web and use your model to predict the traffic sign type.\n",
    "\n",
    "You may find `signnames.csv` useful as it contains mappings from the class id (integer) to the actual sign name."
   ]
  },
  {
   "cell_type": "markdown",
   "metadata": {},
   "source": [
    "### Load and Output the Images"
   ]
  },
  {
   "cell_type": "code",
   "execution_count": null,
   "metadata": {},
   "outputs": [],
   "source": [
    "### Load the images and plot them here.\n",
    "### Feel free to use as many code cells as needed."
   ]
  },
  {
   "cell_type": "markdown",
   "metadata": {},
   "source": [
    "### Predict the Sign Type for Each Image"
   ]
  },
  {
   "cell_type": "code",
   "execution_count": null,
   "metadata": {},
   "outputs": [],
   "source": [
    "### Run the predictions here and use the model to output the prediction for each image.\n",
    "### Make sure to pre-process the images with the same pre-processing pipeline used earlier.\n",
    "### Feel free to use as many code cells as needed."
   ]
  },
  {
   "cell_type": "markdown",
   "metadata": {},
   "source": [
    "### Analyze Performance"
   ]
  },
  {
   "cell_type": "code",
   "execution_count": null,
   "metadata": {},
   "outputs": [],
   "source": [
    "### Calculate the accuracy for these 5 new images. \n",
    "### For example, if the model predicted 1 out of 5 signs correctly, it's 20% accurate on these new images."
   ]
  },
  {
   "cell_type": "markdown",
   "metadata": {},
   "source": [
    "### Output Top 5 Softmax Probabilities For Each Image Found on the Web"
   ]
  },
  {
   "cell_type": "markdown",
   "metadata": {},
   "source": [
    "For each of the new images, print out the model's softmax probabilities to show the **certainty** of the model's predictions (limit the output to the top 5 probabilities for each image). [`tf.nn.top_k`](https://www.tensorflow.org/versions/r0.12/api_docs/python/nn.html#top_k) could prove helpful here. \n",
    "\n",
    "The example below demonstrates how tf.nn.top_k can be used to find the top k predictions for each image.\n",
    "\n",
    "`tf.nn.top_k` will return the values and indices (class ids) of the top k predictions. So if k=3, for each sign, it'll return the 3 largest probabilities (out of a possible 43) and the correspoding class ids.\n",
    "\n",
    "Take this numpy array as an example. The values in the array represent predictions. The array contains softmax probabilities for five candidate images with six possible classes. `tf.nn.top_k` is used to choose the three classes with the highest probability:\n",
    "\n",
    "```\n",
    "# (5, 6) array\n",
    "a = np.array([[ 0.24879643,  0.07032244,  0.12641572,  0.34763842,  0.07893497,\n",
    "         0.12789202],\n",
    "       [ 0.28086119,  0.27569815,  0.08594638,  0.0178669 ,  0.18063401,\n",
    "         0.15899337],\n",
    "       [ 0.26076848,  0.23664738,  0.08020603,  0.07001922,  0.1134371 ,\n",
    "         0.23892179],\n",
    "       [ 0.11943333,  0.29198961,  0.02605103,  0.26234032,  0.1351348 ,\n",
    "         0.16505091],\n",
    "       [ 0.09561176,  0.34396535,  0.0643941 ,  0.16240774,  0.24206137,\n",
    "         0.09155967]])\n",
    "```\n",
    "\n",
    "Running it through `sess.run(tf.nn.top_k(tf.constant(a), k=3))` produces:\n",
    "\n",
    "```\n",
    "TopKV2(values=array([[ 0.34763842,  0.24879643,  0.12789202],\n",
    "       [ 0.28086119,  0.27569815,  0.18063401],\n",
    "       [ 0.26076848,  0.23892179,  0.23664738],\n",
    "       [ 0.29198961,  0.26234032,  0.16505091],\n",
    "       [ 0.34396535,  0.24206137,  0.16240774]]), indices=array([[3, 0, 5],\n",
    "       [0, 1, 4],\n",
    "       [0, 5, 1],\n",
    "       [1, 3, 5],\n",
    "       [1, 4, 3]], dtype=int32))\n",
    "```\n",
    "\n",
    "Looking just at the first row we get `[ 0.34763842,  0.24879643,  0.12789202]`, you can confirm these are the 3 largest probabilities in `a`. You'll also notice `[3, 0, 5]` are the corresponding indices."
   ]
  },
  {
   "cell_type": "code",
   "execution_count": null,
   "metadata": {},
   "outputs": [],
   "source": [
    "### Print out the top five softmax probabilities for the predictions on the German traffic sign images found on the web. \n",
    "### Feel free to use as many code cells as needed."
   ]
  },
  {
   "cell_type": "markdown",
   "metadata": {},
   "source": [
    "### Project Writeup\n",
    "\n",
    "Once you have completed the code implementation, document your results in a project writeup using this [template](https://github.com/udacity/CarND-Traffic-Sign-Classifier-Project/blob/master/writeup_template.md) as a guide. The writeup can be in a markdown or pdf file. "
   ]
  },
  {
   "cell_type": "markdown",
   "metadata": {},
   "source": [
    "> **Note**: Once you have completed all of the code implementations and successfully answered each question above, you may finalize your work by exporting the iPython Notebook as an HTML document. You can do this by using the menu above and navigating to  \\n\",\n",
    "    \"**File -> Download as -> HTML (.html)**. Include the finished document along with this notebook as your submission."
   ]
  },
  {
   "cell_type": "markdown",
   "metadata": {},
   "source": [
    "---\n",
    "\n",
    "## Step 4 (Optional): Visualize the Neural Network's State with Test Images\n",
    "\n",
    " This Section is not required to complete but acts as an additional excersise for understaning the output of a neural network's weights. While neural networks can be a great learning device they are often referred to as a black box. We can understand what the weights of a neural network look like better by plotting their feature maps. After successfully training your neural network you can see what it's feature maps look like by plotting the output of the network's weight layers in response to a test stimuli image. From these plotted feature maps, it's possible to see what characteristics of an image the network finds interesting. For a sign, maybe the inner network feature maps react with high activation to the sign's boundary outline or to the contrast in the sign's painted symbol.\n",
    "\n",
    " Provided for you below is the function code that allows you to get the visualization output of any tensorflow weight layer you want. The inputs to the function should be a stimuli image, one used during training or a new one you provided, and then the tensorflow variable name that represents the layer's state during the training process, for instance if you wanted to see what the [LeNet lab's](https://classroom.udacity.com/nanodegrees/nd013/parts/fbf77062-5703-404e-b60c-95b78b2f3f9e/modules/6df7ae49-c61c-4bb2-a23e-6527e69209ec/lessons/601ae704-1035-4287-8b11-e2c2716217ad/concepts/d4aca031-508f-4e0b-b493-e7b706120f81) feature maps looked like for it's second convolutional layer you could enter conv2 as the tf_activation variable.\n",
    "\n",
    "For an example of what feature map outputs look like, check out NVIDIA's results in their paper [End-to-End Deep Learning for Self-Driving Cars](https://devblogs.nvidia.com/parallelforall/deep-learning-self-driving-cars/) in the section Visualization of internal CNN State. NVIDIA was able to show that their network's inner weights had high activations to road boundary lines by comparing feature maps from an image with a clear path to one without. Try experimenting with a similar test to show that your trained network's weights are looking for interesting features, whether it's looking at differences in feature maps from images with or without a sign, or even what feature maps look like in a trained network vs a completely untrained one on the same sign image.\n",
    "\n",
    "<figure>\n",
    " <img src=\"visualize_cnn.png\" width=\"380\" alt=\"Combined Image\" />\n",
    " <figcaption>\n",
    " <p></p> \n",
    " <p style=\"text-align: center;\"> Your output should look something like this (above)</p> \n",
    " </figcaption>\n",
    "</figure>\n",
    " <p></p> \n"
   ]
  },
  {
   "cell_type": "code",
   "execution_count": null,
   "metadata": {},
   "outputs": [],
   "source": [
    "### Visualize your network's feature maps here.\n",
    "### Feel free to use as many code cells as needed.\n",
    "\n",
    "# image_input: the test image being fed into the network to produce the feature maps\n",
    "# tf_activation: should be a tf variable name used during your training procedure that represents the calculated state of a specific weight layer\n",
    "# activation_min/max: can be used to view the activation contrast in more detail, by default matplot sets min and max to the actual min and max values of the output\n",
    "# plt_num: used to plot out multiple different weight feature map sets on the same block, just extend the plt number for each new feature map entry\n",
    "\n",
    "def outputFeatureMap(image_input, tf_activation, activation_min=-1, activation_max=-1 ,plt_num=1):\n",
    "    # Here make sure to preprocess your image_input in a way your network expects\n",
    "    # with size, normalization, ect if needed\n",
    "    # image_input =\n",
    "    # Note: x should be the same name as your network's tensorflow data placeholder variable\n",
    "    # If you get an error tf_activation is not defined it may be having trouble accessing the variable from inside a function\n",
    "    activation = tf_activation.eval(session=sess,feed_dict={x : image_input})\n",
    "    featuremaps = activation.shape[3]\n",
    "    plt.figure(plt_num, figsize=(15,15))\n",
    "    for featuremap in range(featuremaps):\n",
    "        plt.subplot(6,8, featuremap+1) # sets the number of feature maps to show on each row and column\n",
    "        plt.title('FeatureMap ' + str(featuremap)) # displays the feature map number\n",
    "        if activation_min != -1 & activation_max != -1:\n",
    "            plt.imshow(activation[0,:,:, featuremap], interpolation=\"nearest\", vmin =activation_min, vmax=activation_max, cmap=\"gray\")\n",
    "        elif activation_max != -1:\n",
    "            plt.imshow(activation[0,:,:, featuremap], interpolation=\"nearest\", vmax=activation_max, cmap=\"gray\")\n",
    "        elif activation_min !=-1:\n",
    "            plt.imshow(activation[0,:,:, featuremap], interpolation=\"nearest\", vmin=activation_min, cmap=\"gray\")\n",
    "        else:\n",
    "            plt.imshow(activation[0,:,:, featuremap], interpolation=\"nearest\", cmap=\"gray\")"
   ]
  }
 ],
 "metadata": {
  "anaconda-cloud": {},
  "kernelspec": {
   "display_name": "venvratt",
   "language": "python",
   "name": "venvratt"
  },
  "language_info": {
   "codemirror_mode": {
    "name": "ipython",
    "version": 3
   },
   "file_extension": ".py",
   "mimetype": "text/x-python",
   "name": "python",
   "nbconvert_exporter": "python",
   "pygments_lexer": "ipython3",
   "version": "3.8.2"
  }
 },
 "nbformat": 4,
 "nbformat_minor": 1
}
